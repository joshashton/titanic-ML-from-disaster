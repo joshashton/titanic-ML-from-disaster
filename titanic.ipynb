{
 "cells": [
  {
   "cell_type": "code",
   "execution_count": null,
   "id": "7f756ff4-e6f9-432d-9613-bf120a1e97c9",
   "metadata": {},
   "outputs": [],
   "source": [
    "#Imports "
   ]
  },
  {
   "cell_type": "code",
   "execution_count": null,
   "id": "7b6ba5db-351c-4507-a820-b64101938da7",
   "metadata": {},
   "outputs": [],
   "source": []
  }
 ],
 "metadata": {
  "kernelspec": {
   "display_name": "Python 3 (ipykernel)",
   "language": "python",
   "name": "python3"
  },
  "language_info": {
   "codemirror_mode": {
    "name": "ipython",
    "version": 3
   },
   "file_extension": ".py",
   "mimetype": "text/x-python",
   "name": "python",
   "nbconvert_exporter": "python",
   "pygments_lexer": "ipython3",
   "version": "3.11.7"
  }
 },
 "nbformat": 4,
 "nbformat_minor": 5
}
